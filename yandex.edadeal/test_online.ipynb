{
 "cells": [
  {
   "cell_type": "markdown",
   "metadata": {},
   "source": [
    "# Импорты"
   ]
  },
  {
   "cell_type": "code",
   "execution_count": 1,
   "metadata": {},
   "outputs": [],
   "source": [
    "from collections import Counter"
   ]
  },
  {
   "cell_type": "markdown",
   "metadata": {},
   "source": [
    "# Формирование функций вычислений ответа"
   ]
  },
  {
   "cell_type": "markdown",
   "metadata": {},
   "source": [
    "### Алгоритм решения\n",
    "\n",
    "Решение задачи делится на 2 этапа:\n",
    "\n",
    "* Нахождение количества конфет каждого типа\n",
    "* Нахождение НОД для списка чисел, полученного в предыдущем пункте\n",
    "\n",
    "Далее приведены функции, реализующие алгоритм"
   ]
  },
  {
   "cell_type": "code",
   "execution_count": 2,
   "metadata": {},
   "outputs": [],
   "source": [
    "def collect_counts(in_list : list, use_counter : bool=True) -> list:\n",
    "    \"\"\"\n",
    "    Функция нахождения количества конфет каждого типа\n",
    "    \n",
    "    Parameters\n",
    "    ----------\n",
    "    in_list : list\n",
    "        список конфет\n",
    "    use_counter : bool\n",
    "        использовать Counter при сборке списка или обойтись стандартными функциями\n",
    "    \n",
    "    Returns\n",
    "    -------\n",
    "    output : list\n",
    "        список, в котором содержатся уникальные значения количества конфет различных типов\n",
    "    \"\"\"\n",
    "    if len(in_list) == 0:\n",
    "        return []\n",
    "    if len(in_list) == 1:\n",
    "        return [1]\n",
    "    \n",
    "    if use_counter:\n",
    "        cnt = Counter(in_list)\n",
    "    else:\n",
    "        sorted_list = sorted(in_list)\n",
    "        cnt = {}\n",
    "        current_el = sorted_list.pop(0)\n",
    "        count = 1\n",
    "        for el in sorted_list:\n",
    "            if el == current_el:\n",
    "                count += 1\n",
    "            else:\n",
    "                cnt[current_el] = count\n",
    "                current_el = el\n",
    "                count = 1\n",
    "        cnt[el] = count\n",
    "    \n",
    "    # нам дальше будут нужны только уникальные отсортированные значения количества\n",
    "    output = sorted(set(cnt.values()))\n",
    "    \n",
    "    return output"
   ]
  },
  {
   "cell_type": "code",
   "execution_count": 3,
   "metadata": {},
   "outputs": [],
   "source": [
    "def nod_2(a : int, b : int) -> int:\n",
    "    \"\"\"\n",
    "    Функция вычисления НОД двух чисел\n",
    "    \n",
    "    Parameters\n",
    "    ----------\n",
    "    a : int\n",
    "        первое число\n",
    "    b : int\n",
    "        второе число\n",
    "    \n",
    "    Returns\n",
    "    -------\n",
    "    nod : int\n",
    "        НОД двух чисел\n",
    "    \"\"\"\n",
    "    while a != 0 and b != 0:\n",
    "        if a > b:\n",
    "            a = a % b\n",
    "        else:\n",
    "            b = b % a\n",
    "\n",
    "    return a + b"
   ]
  },
  {
   "cell_type": "code",
   "execution_count": 4,
   "metadata": {},
   "outputs": [],
   "source": [
    "def nod_list(values : list) -> int:\n",
    "    \"\"\"\n",
    "    Функция вычисления НОД списка чисел\n",
    "    \n",
    "    Parameters\n",
    "    ----------\n",
    "    values : list\n",
    "        список чисел\n",
    "    \n",
    "    Returns\n",
    "    -------\n",
    "    nod : int\n",
    "        НОД списка чисел\n",
    "    \"\"\"\n",
    "    if not values:\n",
    "        return 0\n",
    "    if len(values) == 1:\n",
    "        return values[0]\n",
    "    if values[0] == 1:\n",
    "        return 1\n",
    "    \n",
    "    output = values[-1]\n",
    "    for el1, el2 in zip(values[:-1], values[1:]):\n",
    "        n = nod_2(el1, el2)\n",
    "        if n == 1:\n",
    "            return 1\n",
    "        if n < output:\n",
    "            output = n\n",
    "    \n",
    "    return output"
   ]
  },
  {
   "cell_type": "code",
   "execution_count": 5,
   "metadata": {},
   "outputs": [],
   "source": [
    "def fair_dist(in_list : list, use_counter : bool=True) -> int:\n",
    "    \"\"\"\n",
    "    Функция нахождения количества человек, между которыми можно поровну разделить конфеты\n",
    "    \n",
    "    Parameters\n",
    "    ----------\n",
    "    in_list : list\n",
    "        список конфет\n",
    "    use_counter : bool\n",
    "        использовать Counter при сборке списка или обойтись более стандартными функциями\n",
    "    \n",
    "    Returns\n",
    "    -------\n",
    "    output : int\n",
    "        количество человек\n",
    "    \"\"\"\n",
    "    counts = collect_counts(in_list)\n",
    "    return nod_list(counts)"
   ]
  },
  {
   "cell_type": "markdown",
   "metadata": {},
   "source": [
    "# Тестирование\n",
    "\n",
    "Запуск вычислений осущетвляется вызовом функции ``fair_dist``, на вход которой передаётся список конфет\n",
    "\n",
    "Опционально в функции можно задать параметр ``use_counter`` значением ``False``, чтобы расчёт производился без использования стандартной библиотеки ``Collections``\n",
    "\n",
    "**Пример запуска**\n",
    "```python\n",
    "fair_dist(['a', 'a', 'b', 'b'], True)\n",
    ">>> Out: 2\n",
    "```\n",
    "\n",
    "Следующие 2 ячйки проводят частичное тестирование функции"
   ]
  },
  {
   "cell_type": "code",
   "execution_count": 6,
   "metadata": {},
   "outputs": [],
   "source": [
    "# Список тестов\n",
    "tests = [\n",
    "    (['a', 'a', 'a', 'b', 'b', 'b', 'b', 'c', 'c', 'c', 'c', 'c'], 1),\n",
    "    (['a', 'b', 'c', 'a', 'b', 'c', 'c', 'c'], 2),\n",
    "    ([], 0),\n",
    "    (['a'], 1),\n",
    "    (['a', 'b'], 1),\n",
    "    (['a', 'a'], 2),\n",
    "    (['a', 'b', 'c', 'a', 'c', 'c', 'c'], 1),\n",
    "    (['a', 'a', 'a', 'a'], 4),\n",
    "    (['a', 'a', 'b', 'a', 'a'], 1),\n",
    "    (['a', 'a', 'b', 'b'], 2),\n",
    "    (['a'] * 78 + ['b'] * 294 + ['c'] * 570 + ['d'] * 36, 6),\n",
    "]"
   ]
  },
  {
   "cell_type": "code",
   "execution_count": 7,
   "metadata": {},
   "outputs": [
    {
     "name": "stdout",
     "output_type": "stream",
     "text": [
      "test list ['a', 'a', 'a', 'b', 'b', 'b', 'b', 'c', 'c', 'c', 'c', 'c'] passed\n",
      "test list ['a', 'b', 'c', 'a', 'b', 'c', 'c', 'c'] passed\n",
      "test list [] passed\n",
      "test list ['a'] passed\n",
      "test list ['a', 'b'] passed\n",
      "test list ['a', 'a'] passed\n",
      "test list ['a', 'b', 'c', 'a', 'c', 'c', 'c'] passed\n",
      "test list ['a', 'a', 'a', 'a'] passed\n",
      "test list ['a', 'a', 'b', 'a', 'a'] passed\n",
      "test list ['a', 'a', 'b', 'b'] passed\n",
      "test list ['a', 'a', 'a', 'a', 'a', 'a', 'a', 'a', 'a', 'a', 'a', 'a', 'a', 'a', 'a', 'a', 'a', 'a', 'a', 'a', 'a', 'a', 'a', 'a', 'a', 'a', 'a', 'a', 'a', 'a', 'a', 'a', 'a', 'a', 'a', 'a', 'a', 'a', 'a', 'a', 'a', 'a', 'a', 'a', 'a', 'a', 'a', 'a', 'a', 'a', 'a', 'a', 'a', 'a', 'a', 'a', 'a', 'a', 'a', 'a', 'a', 'a', 'a', 'a', 'a', 'a', 'a', 'a', 'a', 'a', 'a', 'a', 'a', 'a', 'a', 'a', 'a', 'a', 'b', 'b', 'b', 'b', 'b', 'b', 'b', 'b', 'b', 'b', 'b', 'b', 'b', 'b', 'b', 'b', 'b', 'b', 'b', 'b', 'b', 'b', 'b', 'b', 'b', 'b', 'b', 'b', 'b', 'b', 'b', 'b', 'b', 'b', 'b', 'b', 'b', 'b', 'b', 'b', 'b', 'b', 'b', 'b', 'b', 'b', 'b', 'b', 'b', 'b', 'b', 'b', 'b', 'b', 'b', 'b', 'b', 'b', 'b', 'b', 'b', 'b', 'b', 'b', 'b', 'b', 'b', 'b', 'b', 'b', 'b', 'b', 'b', 'b', 'b', 'b', 'b', 'b', 'b', 'b', 'b', 'b', 'b', 'b', 'b', 'b', 'b', 'b', 'b', 'b', 'b', 'b', 'b', 'b', 'b', 'b', 'b', 'b', 'b', 'b', 'b', 'b', 'b', 'b', 'b', 'b', 'b', 'b', 'b', 'b', 'b', 'b', 'b', 'b', 'b', 'b', 'b', 'b', 'b', 'b', 'b', 'b', 'b', 'b', 'b', 'b', 'b', 'b', 'b', 'b', 'b', 'b', 'b', 'b', 'b', 'b', 'b', 'b', 'b', 'b', 'b', 'b', 'b', 'b', 'b', 'b', 'b', 'b', 'b', 'b', 'b', 'b', 'b', 'b', 'b', 'b', 'b', 'b', 'b', 'b', 'b', 'b', 'b', 'b', 'b', 'b', 'b', 'b', 'b', 'b', 'b', 'b', 'b', 'b', 'b', 'b', 'b', 'b', 'b', 'b', 'b', 'b', 'b', 'b', 'b', 'b', 'b', 'b', 'b', 'b', 'b', 'b', 'b', 'b', 'b', 'b', 'b', 'b', 'b', 'b', 'b', 'b', 'b', 'b', 'b', 'b', 'b', 'b', 'b', 'b', 'b', 'b', 'b', 'b', 'b', 'b', 'b', 'b', 'b', 'b', 'b', 'b', 'b', 'b', 'b', 'b', 'b', 'b', 'b', 'b', 'b', 'b', 'b', 'b', 'b', 'b', 'b', 'b', 'b', 'b', 'b', 'b', 'b', 'b', 'b', 'b', 'b', 'b', 'b', 'b', 'b', 'b', 'b', 'b', 'b', 'b', 'b', 'b', 'b', 'b', 'b', 'b', 'b', 'b', 'b', 'b', 'b', 'b', 'b', 'b', 'b', 'b', 'b', 'b', 'b', 'b', 'b', 'b', 'b', 'b', 'b', 'b', 'b', 'b', 'b', 'b', 'b', 'b', 'b', 'b', 'b', 'b', 'b', 'b', 'c', 'c', 'c', 'c', 'c', 'c', 'c', 'c', 'c', 'c', 'c', 'c', 'c', 'c', 'c', 'c', 'c', 'c', 'c', 'c', 'c', 'c', 'c', 'c', 'c', 'c', 'c', 'c', 'c', 'c', 'c', 'c', 'c', 'c', 'c', 'c', 'c', 'c', 'c', 'c', 'c', 'c', 'c', 'c', 'c', 'c', 'c', 'c', 'c', 'c', 'c', 'c', 'c', 'c', 'c', 'c', 'c', 'c', 'c', 'c', 'c', 'c', 'c', 'c', 'c', 'c', 'c', 'c', 'c', 'c', 'c', 'c', 'c', 'c', 'c', 'c', 'c', 'c', 'c', 'c', 'c', 'c', 'c', 'c', 'c', 'c', 'c', 'c', 'c', 'c', 'c', 'c', 'c', 'c', 'c', 'c', 'c', 'c', 'c', 'c', 'c', 'c', 'c', 'c', 'c', 'c', 'c', 'c', 'c', 'c', 'c', 'c', 'c', 'c', 'c', 'c', 'c', 'c', 'c', 'c', 'c', 'c', 'c', 'c', 'c', 'c', 'c', 'c', 'c', 'c', 'c', 'c', 'c', 'c', 'c', 'c', 'c', 'c', 'c', 'c', 'c', 'c', 'c', 'c', 'c', 'c', 'c', 'c', 'c', 'c', 'c', 'c', 'c', 'c', 'c', 'c', 'c', 'c', 'c', 'c', 'c', 'c', 'c', 'c', 'c', 'c', 'c', 'c', 'c', 'c', 'c', 'c', 'c', 'c', 'c', 'c', 'c', 'c', 'c', 'c', 'c', 'c', 'c', 'c', 'c', 'c', 'c', 'c', 'c', 'c', 'c', 'c', 'c', 'c', 'c', 'c', 'c', 'c', 'c', 'c', 'c', 'c', 'c', 'c', 'c', 'c', 'c', 'c', 'c', 'c', 'c', 'c', 'c', 'c', 'c', 'c', 'c', 'c', 'c', 'c', 'c', 'c', 'c', 'c', 'c', 'c', 'c', 'c', 'c', 'c', 'c', 'c', 'c', 'c', 'c', 'c', 'c', 'c', 'c', 'c', 'c', 'c', 'c', 'c', 'c', 'c', 'c', 'c', 'c', 'c', 'c', 'c', 'c', 'c', 'c', 'c', 'c', 'c', 'c', 'c', 'c', 'c', 'c', 'c', 'c', 'c', 'c', 'c', 'c', 'c', 'c', 'c', 'c', 'c', 'c', 'c', 'c', 'c', 'c', 'c', 'c', 'c', 'c', 'c', 'c', 'c', 'c', 'c', 'c', 'c', 'c', 'c', 'c', 'c', 'c', 'c', 'c', 'c', 'c', 'c', 'c', 'c', 'c', 'c', 'c', 'c', 'c', 'c', 'c', 'c', 'c', 'c', 'c', 'c', 'c', 'c', 'c', 'c', 'c', 'c', 'c', 'c', 'c', 'c', 'c', 'c', 'c', 'c', 'c', 'c', 'c', 'c', 'c', 'c', 'c', 'c', 'c', 'c', 'c', 'c', 'c', 'c', 'c', 'c', 'c', 'c', 'c', 'c', 'c', 'c', 'c', 'c', 'c', 'c', 'c', 'c', 'c', 'c', 'c', 'c', 'c', 'c', 'c', 'c', 'c', 'c', 'c', 'c', 'c', 'c', 'c', 'c', 'c', 'c', 'c', 'c', 'c', 'c', 'c', 'c', 'c', 'c', 'c', 'c', 'c', 'c', 'c', 'c', 'c', 'c', 'c', 'c', 'c', 'c', 'c', 'c', 'c', 'c', 'c', 'c', 'c', 'c', 'c', 'c', 'c', 'c', 'c', 'c', 'c', 'c', 'c', 'c', 'c', 'c', 'c', 'c', 'c', 'c', 'c', 'c', 'c', 'c', 'c', 'c', 'c', 'c', 'c', 'c', 'c', 'c', 'c', 'c', 'c', 'c', 'c', 'c', 'c', 'c', 'c', 'c', 'c', 'c', 'c', 'c', 'c', 'c', 'c', 'c', 'c', 'c', 'c', 'c', 'c', 'c', 'c', 'c', 'c', 'c', 'c', 'c', 'c', 'c', 'c', 'c', 'c', 'c', 'c', 'c', 'c', 'c', 'c', 'c', 'c', 'c', 'c', 'c', 'c', 'c', 'c', 'c', 'c', 'c', 'c', 'c', 'c', 'c', 'c', 'c', 'c', 'c', 'c', 'c', 'c', 'c', 'c', 'c', 'c', 'c', 'c', 'c', 'c', 'c', 'c', 'c', 'c', 'c', 'c', 'c', 'c', 'c', 'c', 'c', 'c', 'c', 'c', 'c', 'c', 'c', 'c', 'c', 'c', 'c', 'c', 'c', 'c', 'c', 'c', 'c', 'c', 'c', 'c', 'c', 'c', 'c', 'c', 'c', 'c', 'c', 'c', 'c', 'c', 'c', 'c', 'c', 'c', 'c', 'c', 'c', 'c', 'c', 'c', 'c', 'c', 'c', 'c', 'c', 'c', 'c', 'c', 'c', 'c', 'c', 'c', 'c', 'c', 'c', 'c', 'c', 'c', 'c', 'd', 'd', 'd', 'd', 'd', 'd', 'd', 'd', 'd', 'd', 'd', 'd', 'd', 'd', 'd', 'd', 'd', 'd', 'd', 'd', 'd', 'd', 'd', 'd', 'd', 'd', 'd', 'd', 'd', 'd', 'd', 'd', 'd', 'd', 'd', 'd'] passed\n"
     ]
    }
   ],
   "source": [
    "for test, answer in tests:\n",
    "    assert fair_dist(test, True) == answer\n",
    "    assert fair_dist(test, False) == answer\n",
    "    print(f'test list {test} passed')"
   ]
  },
  {
   "cell_type": "code",
   "execution_count": null,
   "metadata": {},
   "outputs": [],
   "source": []
  }
 ],
 "metadata": {
  "kernelspec": {
   "display_name": "Python 3",
   "language": "python",
   "name": "python3"
  },
  "language_info": {
   "codemirror_mode": {
    "name": "ipython",
    "version": 3
   },
   "file_extension": ".py",
   "mimetype": "text/x-python",
   "name": "python",
   "nbconvert_exporter": "python",
   "pygments_lexer": "ipython3",
   "version": "3.7.9"
  }
 },
 "nbformat": 4,
 "nbformat_minor": 4
}
