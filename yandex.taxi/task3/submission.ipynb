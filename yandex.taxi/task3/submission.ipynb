{
 "cells": [
  {
   "cell_type": "code",
   "execution_count": 1,
   "metadata": {},
   "outputs": [],
   "source": [
    "import numpy as np\n",
    "import pandas as pd\n",
    "from statsmodels import stats\n",
    "from statsmodels.stats.proportion import proportion_confint\n",
    "import scipy"
   ]
  },
  {
   "cell_type": "code",
   "execution_count": 2,
   "metadata": {},
   "outputs": [],
   "source": [
    "def proportions_diff_confint_ind(data, alpha = 0.05):    \n",
    "    z = scipy.stats.norm.ppf(1 - alpha / 2.)\n",
    "    \n",
    "    n1 = data.iloc[0]['sum']\n",
    "    n2 = data.iloc[1]['sum']\n",
    "    \n",
    "    p1 = float(data.iloc[0]['pos']) / n1\n",
    "    p2 = float(data.iloc[1]['pos']) / n2\n",
    "    \n",
    "    left_boundary = (p1 - p2) - z * np.sqrt(p1 * (1 - p1)/ n1 + p2 * (1 - p2)/ n2)\n",
    "    right_boundary = (p1 - p2) + z * np.sqrt(p1 * (1 - p1)/ n1 + p2 * (1 - p2)/ n2)\n",
    "    \n",
    "    return (left_boundary, right_boundary)\n",
    "\n",
    "def proportions_diff_z_stat_ind(data):\n",
    "    n1 = data.iloc[0]['sum']\n",
    "    n2 = data.iloc[1]['sum']\n",
    "    \n",
    "    p1 = float(data.iloc[0]['pos']) / n1\n",
    "    p2 = float(data.iloc[1]['pos']) / n2\n",
    "    \n",
    "    P = float(p1*n1 + p2*n2) / (n1 + n2)\n",
    "    \n",
    "    return (p1 - p2) / np.sqrt(P * (1 - P) * (1. / n1 + 1. / n2))\n",
    "\n",
    "def proportions_diff_z_test(z_stat, alternative = 'two-sided'):\n",
    "    if alternative not in ('two-sided', 'less', 'greater'):\n",
    "        raise ValueError(\"alternative not recognized\\n\"\n",
    "                         \"should be 'two-sided', 'less' or 'greater'\")\n",
    "    \n",
    "    if alternative == 'two-sided':\n",
    "        return 2 * (1 - scipy.stats.norm.cdf(np.abs(z_stat)))\n",
    "    \n",
    "    if alternative == 'less':\n",
    "        return scipy.stats.norm.cdf(z_stat)\n",
    "\n",
    "    if alternative == 'greater':\n",
    "        return 1 - scipy.stats.norm.cdf(z_stat)"
   ]
  },
  {
   "cell_type": "code",
   "execution_count": 3,
   "metadata": {},
   "outputs": [],
   "source": [
    "# Данные задачи\n",
    "n = 1000000\n",
    "clicks1 = 10000\n",
    "clicks2 = 11500\n",
    "inst1 = 440\n",
    "inst2 = 500"
   ]
  },
  {
   "cell_type": "code",
   "execution_count": 4,
   "metadata": {},
   "outputs": [
    {
     "name": "stdout",
     "output_type": "stream",
     "text": [
      "   pos    neg    sum\n",
      "0  440   9560  10000\n",
      "1  500  11000  11500\n",
      "(-0.004960115555974521, 0.0060035938168440835)\n",
      "0.8519626637290214\n"
     ]
    }
   ],
   "source": [
    "# Проверка гипотезы о том, что доля установок к кликам в двух экспериментах одинакова\n",
    "data = np.array([[inst1, clicks1 - inst1, clicks1], [inst2, clicks2 - inst2, clicks2]])\n",
    "data = pd.DataFrame(data)\n",
    "data.columns = ['pos', 'neg', 'sum']\n",
    "print(data)\n",
    "print(proportions_diff_confint_ind(data))\n",
    "print(proportions_diff_z_test(proportions_diff_z_stat_ind(data)))"
   ]
  },
  {
   "cell_type": "markdown",
   "metadata": {},
   "source": [
    "Гипотезу нельзя отвергнуть."
   ]
  },
  {
   "cell_type": "code",
   "execution_count": 5,
   "metadata": {},
   "outputs": [
    {
     "name": "stdout",
     "output_type": "stream",
     "text": [
      "     pos     neg      sum\n",
      "0  10000  990000  1000000\n",
      "1  11500  988500  1000000\n",
      "(-0.001785830694352124, -0.0012141693056478753)\n",
      "0.0\n"
     ]
    }
   ],
   "source": [
    "# Проверка гипотезы о том, что доля кликов в двух экспериментах одинакова\n",
    "data = np.array([[clicks1, n - clicks1, n], [clicks2, n - clicks2, n]])\n",
    "data = pd.DataFrame(data)\n",
    "data.columns = ['pos', 'neg', 'sum']\n",
    "print(data)\n",
    "print(proportions_diff_confint_ind(data))\n",
    "print(proportions_diff_z_test(proportions_diff_z_stat_ind(data)))"
   ]
  },
  {
   "cell_type": "markdown",
   "metadata": {},
   "source": [
    "Можем отвергнуть гипотезу о том, что кликабельность двух баннеров одинаковая. По доверительному интервалу можно судить о том, что доля кликов по второму баннеру выше, чем по первому."
   ]
  },
  {
   "cell_type": "code",
   "execution_count": 23,
   "metadata": {},
   "outputs": [
    {
     "name": "stdout",
     "output_type": "stream",
     "text": [
      "   pos     neg      sum\n",
      "0  440  999560  1000000\n",
      "1  500  999500  1000000\n",
      "(-0.00012007717719999515, 7.717719999516192e-08)\n",
      "0.05029525763665932\n"
     ]
    }
   ],
   "source": [
    "# Проверка гипотезы о том, что доля установок в двух экспериментах одинакова\n",
    "data = np.array([[inst1, n - inst1, n], [inst2, n - inst2, n]])\n",
    "data = pd.DataFrame(data)\n",
    "data.columns = ['pos', 'neg', 'sum']\n",
    "print(data)\n",
    "# data = np.array([[440, 500], [10000-440, 11500 - 500], [10000, 11500]])\n",
    "print(proportions_diff_confint_ind(data))\n",
    "print(proportions_diff_z_test(proportions_diff_z_stat_ind(data)))"
   ]
  },
  {
   "cell_type": "markdown",
   "metadata": {},
   "source": [
    "Не можем отвергнуть гипотезу о том, что количество установок по второму баннеру отличается от первого баннера на достигаемом уровне значимости 0.05. Тем не менее, p-value достаточно близко к 0.05."
   ]
  },
  {
   "cell_type": "markdown",
   "metadata": {},
   "source": [
    "# Выводы"
   ]
  },
  {
   "cell_type": "markdown",
   "metadata": {},
   "source": [
    "Имеем предположительно независимые выборки, так как пользователи выбирались случайно.\n",
    "\n",
    "Можем выдвинуть гипотезу о том, что доля кликов по первому и второму баннеру одинакова. Такая гипотеза отвергается на достигаемом уровне значимости 0.05 при двусторонней альтернативе. По 95% доверительному интервалу разности долей можем утверждать, что доля кликов по второму баннеру превышает долю кликов по первому. Если говорить о долях установок, то не можем отвергнуть гипотезу об их равенстве на уровне значимости 0.05, но можем отвергнуть на уровне значимости 0.1, а построенный для разности долей 95% доверительный интервал лишь незначительно захватывает 0. В добавок была проверена гипотеза о равенстве долей установок к кликам для двух баннеров, которая не была отвергнута, что позволяет с большей уверенностью ориентироваться на разность в долях кликов, как показатель эффективности. В итоге можно заключить, что второй баннер является более эффективным. Тем не менее, для проверки можно продолжать показывать старый баннер некоторому небольшому проценту пользователей, что позволит продолжить оценку эффективности нового баннера.\n",
    "\n",
    "Вообще все эти выводы справедливы при учёте того, что выборки независимы. Нужно проверить, не попали ли одни и те же пользователи в группы, тестирующие первый и второй баннеры. Такие данные могут повлиять на результат. Поэтому перед принятием окончательного решения, следует уточнить данные."
   ]
  },
  {
   "cell_type": "code",
   "execution_count": null,
   "metadata": {},
   "outputs": [],
   "source": []
  }
 ],
 "metadata": {
  "kernelspec": {
   "display_name": "Python 3",
   "language": "python",
   "name": "python3"
  },
  "language_info": {
   "codemirror_mode": {
    "name": "ipython",
    "version": 3
   },
   "file_extension": ".py",
   "mimetype": "text/x-python",
   "name": "python",
   "nbconvert_exporter": "python",
   "pygments_lexer": "ipython3",
   "version": "3.7.3"
  }
 },
 "nbformat": 4,
 "nbformat_minor": 4
}
