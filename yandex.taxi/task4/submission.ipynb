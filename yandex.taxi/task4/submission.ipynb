{
 "cells": [
  {
   "cell_type": "code",
   "execution_count": 36,
   "metadata": {},
   "outputs": [],
   "source": [
    "%matplotlib inline\n",
    "import pandas as pd\n",
    "import seaborn as sns\n",
    "from datetime import datetime\n",
    "import matplotlib.pyplot as plt\n",
    "import numpy as np\n",
    "import scipy.stats"
   ]
  },
  {
   "cell_type": "markdown",
   "metadata": {},
   "source": [
    "Вводные\n",
    "\n",
    "Водитель может находиться в 4 возможных статусах:\n",
    "    * free -- доступен для нового заказа\n",
    "    * enroute -- едет на заказ\n",
    "    * ontrip -- выполняет заказ\n",
    "    * busy -- недоступен для нового заказа\n",
    "\n",
    "Возможные переходы из одного состояние в другое определены как:\n",
    "    * free -> [free, enroute, busy]\n",
    "    * enroute -> [free, ontrip]\n",
    "    * ontrip -> [free]\n",
    "    * busy -> [free]\n",
    "\n",
    "Почему переходы определяются таким образом:\n",
    "1. Из состояния free можно перейти в\n",
    "    * free -- если водитель ушел в офлайн и заново вышел на линию, тогда подряд будет две записи со статусом free\n",
    "    * enroute -- если водитель принял заказ, то переходит в статус enroute и едет к клиенту\n",
    "    * busy -- если водитель нажал кнопку \"Занят\" в таксометре (пошел на обед и т.д.)\n",
    "2. Из состояния enroute можно перейти в \n",
    "    * free -- если клиент или водитель отменил заказ\n",
    "    * ontrip -- если водитель приехал к клиенту и начал выполнять заказ\n",
    "3. Из состояния ontrip можно перейти только в free (после выполнения заказа)\n",
    "4. Из состояния busy можно перейти только в free\n",
    "\n",
    "Эффективность на поездке -- это время с клиентом в машине (ontrip), деленное на сумму длительностей всех статусов, связанных с поездкой (sum(free) + enroute + ontrip), где sum(free) -- время простоя.\n",
    "\n",
    "Время простоя -- это сумма всех статусов free, предшествующих поездке. Суммируются все статусы free, идущие подряд, а также те, которые были прерваны короткими статусами busy или enroute (короткий статус == меньше какого-то TIMEOUT'а).\n",
    "\n",
    "Имеется набор данных со статусами водителей, по которому необходимо построить зависимость длительности поездки от эффективности.\n",
    "    * driver_id -- id водителя\n",
    "    * status -- один из статусов\n",
    "    * dttm -- время начала статуса\n",
    "\n",
    "Примечания:\n",
    "    * Поездка считается только при наличии статуса ontrip\n",
    "    * Тесты написаны для python 2"
   ]
  },
  {
   "cell_type": "markdown",
   "metadata": {},
   "source": [
    "    1. Написать функцию-генератор, которая будет отдавать соседние элементы в цикле. Функция понадобится для итерирования по записям водителя и проверки соседних статусов по условиям. Не забудьте проверить, что тесты проходят без ошибок (см. test_neighbors)."
   ]
  },
  {
   "cell_type": "code",
   "execution_count": 2,
   "metadata": {},
   "outputs": [],
   "source": [
    "def neighbors(iterable):\n",
    "    n = len(iterable)\n",
    "    \n",
    "    if n < 1:\n",
    "        yield (None, None, None)\n",
    "    elif n == 1:\n",
    "        yield (None, iterable[0], None)\n",
    "    else:\n",
    "        yield (None, iterable[0], iterable[1])\n",
    "        \n",
    "        for i in range(2, n):\n",
    "            yield (iterable[i - 2], iterable[i - 1], iterable[i])\n",
    "            \n",
    "        yield (iterable[-2], iterable[-1], None)\n",
    "    # Write generator function which yields \n",
    "    # previous, current and next values in iterable list.\n",
    "    # ... type your code here ..."
   ]
  },
  {
   "cell_type": "code",
   "execution_count": 3,
   "metadata": {},
   "outputs": [],
   "source": [
    "# Check if test passes\n",
    "def test_neighbors():\n",
    "    test_neighbors = neighbors( range(3) )\n",
    "#     assert test_neighbors.next() == (None, 0, 1)\n",
    "    assert next(test_neighbors) == (None, 0, 1)\n",
    "    assert next(test_neighbors) == (0, 1, 2)\n",
    "    assert next(test_neighbors) == (1, 2, None)\n",
    "\n",
    "test_neighbors()"
   ]
  },
  {
   "cell_type": "markdown",
   "metadata": {},
   "source": [
    "    2. Сгруппировать данные на уровне водителя таким образом, чтобы в одной строке находились все его записи со статусами и началом статуса списком:"
   ]
  },
  {
   "cell_type": "markdown",
   "metadata": {},
   "source": [
    "Формат исходной таблицы:\n",
    "<table>\n",
    "<tr><td>driver_id</td><td>status</td><td>dttm</td></tr>\n",
    "<tr><td>9f8f9bf3ee8f4874873288c246bd2d05</td><td>free</td><td>2018-02-04 00:19</td></tr>\n",
    "<tr><td>9f8f9bf3ee8f4874873288c246bd2d05</td><td>busy</td><td>2018-02-04 01:03</td></tr>\n",
    "<tr><td>8f174ffd446c456eaf3cca0915d0368d</td><td>free</td><td>2018-02-03 15:43</td></tr>\n",
    "<tr><td>8f174ffd446c456eaf3cca0915d0368d</td><td>enroute</td><td>2018-02-03 17:02</td></tr>\n",
    "<tr><td>...</td><td>...</td><td>...</td></tr>\n",
    "</table>"
   ]
  },
  {
   "cell_type": "markdown",
   "metadata": {},
   "source": [
    "Формат сгруппированной таблицы:\n",
    "<table>\n",
    "<tr><td>driver_id</td><td>driver_info</td></tr>\n",
    "<tr><td>9f8f9bf3ee8f4874873288c246bd2d05</td><td>[(\"free\", 2018-02-04 00:19), (\"busy\", 2018-02-04 01:03)]</td></tr>\n",
    "<tr><td>8f174ffd446c456eaf3cca0915d0368d</td><td>[(\"free\", 2018-02-03 15:43), (\"enroute\", 2018-02-03 17:02) ...]</td></tr>\n",
    "</table>"
   ]
  },
  {
   "cell_type": "code",
   "execution_count": 4,
   "metadata": {},
   "outputs": [
    {
     "data": {
      "text/html": [
       "<div>\n",
       "<style scoped>\n",
       "    .dataframe tbody tr th:only-of-type {\n",
       "        vertical-align: middle;\n",
       "    }\n",
       "\n",
       "    .dataframe tbody tr th {\n",
       "        vertical-align: top;\n",
       "    }\n",
       "\n",
       "    .dataframe thead th {\n",
       "        text-align: right;\n",
       "    }\n",
       "</style>\n",
       "<table border=\"1\" class=\"dataframe\">\n",
       "  <thead>\n",
       "    <tr style=\"text-align: right;\">\n",
       "      <th></th>\n",
       "      <th>driver_id</th>\n",
       "      <th>driver_info</th>\n",
       "    </tr>\n",
       "  </thead>\n",
       "  <tbody>\n",
       "    <tr>\n",
       "      <th>0</th>\n",
       "      <td>029e9b80b45c483fbb00c4695c2d9c09</td>\n",
       "      <td>[(free, 2018-02-18T20:01:18.620339000), (enrou...</td>\n",
       "    </tr>\n",
       "    <tr>\n",
       "      <th>1</th>\n",
       "      <td>041ddc65a16649129eb6dbee9b54d6e8</td>\n",
       "      <td>[(free, 2018-02-18T19:56:21.620339000), (busy,...</td>\n",
       "    </tr>\n",
       "    <tr>\n",
       "      <th>2</th>\n",
       "      <td>048459e02e63450d9429ceb34601929d</td>\n",
       "      <td>[(free, 2018-02-18T19:49:55.620339000), (enrou...</td>\n",
       "    </tr>\n",
       "    <tr>\n",
       "      <th>3</th>\n",
       "      <td>0f8eccff510f4bdabbff9f40b2262517</td>\n",
       "      <td>[(free, 2018-02-18T21:02:40.620339000), (busy,...</td>\n",
       "    </tr>\n",
       "    <tr>\n",
       "      <th>4</th>\n",
       "      <td>14637bc848b24ac49fbadc43d207e375</td>\n",
       "      <td>[(free, 2018-02-18T20:36:13.620339000), (enrou...</td>\n",
       "    </tr>\n",
       "  </tbody>\n",
       "</table>\n",
       "</div>"
      ],
      "text/plain": [
       "                          driver_id  \\\n",
       "0  029e9b80b45c483fbb00c4695c2d9c09   \n",
       "1  041ddc65a16649129eb6dbee9b54d6e8   \n",
       "2  048459e02e63450d9429ceb34601929d   \n",
       "3  0f8eccff510f4bdabbff9f40b2262517   \n",
       "4  14637bc848b24ac49fbadc43d207e375   \n",
       "\n",
       "                                         driver_info  \n",
       "0  [(free, 2018-02-18T20:01:18.620339000), (enrou...  \n",
       "1  [(free, 2018-02-18T19:56:21.620339000), (busy,...  \n",
       "2  [(free, 2018-02-18T19:49:55.620339000), (enrou...  \n",
       "3  [(free, 2018-02-18T21:02:40.620339000), (busy,...  \n",
       "4  [(free, 2018-02-18T20:36:13.620339000), (enrou...  "
      ]
     },
     "execution_count": 4,
     "metadata": {},
     "output_type": "execute_result"
    }
   ],
   "source": [
    "df = pd.read_csv(\"./dataset.csv\", parse_dates=[\"dttm\"])\n",
    "grouped = df.groupby(['driver_id'])\n",
    "new_data = []\n",
    "for gr in grouped:\n",
    "    label = gr[0]\n",
    "    data = list(zip(gr[1]['status'].values, gr[1]['dttm'].values))\n",
    "    new_data.append([label, data])\n",
    "\n",
    "new_df = pd.DataFrame(new_data)\n",
    "new_df.columns = ['driver_id', 'driver_info']\n",
    "new_df.head()"
   ]
  },
  {
   "cell_type": "markdown",
   "metadata": {},
   "source": [
    "    3. Используя функцию neighbors, написать функцию, которая для каждой записи в списке driver_info посчитает ее длительность."
   ]
  },
  {
   "cell_type": "code",
   "execution_count": 7,
   "metadata": {},
   "outputs": [],
   "source": [
    "def calc_status_duration(driver_info):\n",
    "    driver_info_updated = []\n",
    "    for i, j, k in neighbors(driver_info):\n",
    "        if k is None: \n",
    "            delta = None\n",
    "        else:\n",
    "            delta = (k[1] - j[1]).item()\n",
    "#             delta = (k[1] - j[1]).total_seconds() for test\n",
    "        driver_info_updated.append(j + (delta, ))\n",
    "    return driver_info_updated"
   ]
  },
  {
   "cell_type": "code",
   "execution_count": 6,
   "metadata": {},
   "outputs": [
    {
     "name": "stdout",
     "output_type": "stream",
     "text": [
      "[('free', datetime.datetime(2018, 4, 2, 0, 19), 2640.0), ('busy', datetime.datetime(2018, 4, 2, 1, 3), None)]\n"
     ]
    }
   ],
   "source": [
    "# Check if test passes\n",
    "def test_calc_status_duration():\n",
    "    sample_driver_info = [(\"free\", datetime(2018, 4, 2, 0, 19)), \n",
    "                          (\"busy\", datetime(2018, 4, 2, 1, 3)),]\n",
    "    sample_driver_info_updated = [('free', datetime(2018, 4, 2, 0, 19), 2640.0),\n",
    "                                  ('busy', datetime(2018, 4, 2, 1, 3), None),]\n",
    "    print(calc_status_duration(sample_driver_info))\n",
    "    assert calc_status_duration(sample_driver_info) == sample_driver_info_updated\n",
    "\n",
    "test_calc_status_duration()"
   ]
  },
  {
   "cell_type": "code",
   "execution_count": 8,
   "metadata": {},
   "outputs": [],
   "source": [
    "new_df['driver_info'] = new_df.driver_info.apply(calc_status_duration)"
   ]
  },
  {
   "cell_type": "code",
   "execution_count": 9,
   "metadata": {},
   "outputs": [
    {
     "data": {
      "text/html": [
       "<div>\n",
       "<style scoped>\n",
       "    .dataframe tbody tr th:only-of-type {\n",
       "        vertical-align: middle;\n",
       "    }\n",
       "\n",
       "    .dataframe tbody tr th {\n",
       "        vertical-align: top;\n",
       "    }\n",
       "\n",
       "    .dataframe thead th {\n",
       "        text-align: right;\n",
       "    }\n",
       "</style>\n",
       "<table border=\"1\" class=\"dataframe\">\n",
       "  <thead>\n",
       "    <tr style=\"text-align: right;\">\n",
       "      <th></th>\n",
       "      <th>driver_id</th>\n",
       "      <th>driver_info</th>\n",
       "    </tr>\n",
       "  </thead>\n",
       "  <tbody>\n",
       "    <tr>\n",
       "      <th>0</th>\n",
       "      <td>029e9b80b45c483fbb00c4695c2d9c09</td>\n",
       "      <td>[(free, 2018-02-18T20:01:18.620339000, 2499000...</td>\n",
       "    </tr>\n",
       "    <tr>\n",
       "      <th>1</th>\n",
       "      <td>041ddc65a16649129eb6dbee9b54d6e8</td>\n",
       "      <td>[(free, 2018-02-18T19:56:21.620339000, 2862000...</td>\n",
       "    </tr>\n",
       "    <tr>\n",
       "      <th>2</th>\n",
       "      <td>048459e02e63450d9429ceb34601929d</td>\n",
       "      <td>[(free, 2018-02-18T19:49:55.620339000, 1233000...</td>\n",
       "    </tr>\n",
       "    <tr>\n",
       "      <th>3</th>\n",
       "      <td>0f8eccff510f4bdabbff9f40b2262517</td>\n",
       "      <td>[(free, 2018-02-18T21:02:40.620339000, 1574000...</td>\n",
       "    </tr>\n",
       "    <tr>\n",
       "      <th>4</th>\n",
       "      <td>14637bc848b24ac49fbadc43d207e375</td>\n",
       "      <td>[(free, 2018-02-18T20:36:13.620339000, 1271000...</td>\n",
       "    </tr>\n",
       "  </tbody>\n",
       "</table>\n",
       "</div>"
      ],
      "text/plain": [
       "                          driver_id  \\\n",
       "0  029e9b80b45c483fbb00c4695c2d9c09   \n",
       "1  041ddc65a16649129eb6dbee9b54d6e8   \n",
       "2  048459e02e63450d9429ceb34601929d   \n",
       "3  0f8eccff510f4bdabbff9f40b2262517   \n",
       "4  14637bc848b24ac49fbadc43d207e375   \n",
       "\n",
       "                                         driver_info  \n",
       "0  [(free, 2018-02-18T20:01:18.620339000, 2499000...  \n",
       "1  [(free, 2018-02-18T19:56:21.620339000, 2862000...  \n",
       "2  [(free, 2018-02-18T19:49:55.620339000, 1233000...  \n",
       "3  [(free, 2018-02-18T21:02:40.620339000, 1574000...  \n",
       "4  [(free, 2018-02-18T20:36:13.620339000, 1271000...  "
      ]
     },
     "execution_count": 9,
     "metadata": {},
     "output_type": "execute_result"
    }
   ],
   "source": [
    "new_df.head()"
   ]
  },
  {
   "cell_type": "markdown",
   "metadata": {},
   "source": [
    "    4. Используя функцию neighbors, написать функцию, которая сформирует из списка driver_info список поездок с информацией о длительности поездки и эффективности (duration_ontrip, efficiency)."
   ]
  },
  {
   "cell_type": "code",
   "execution_count": 10,
   "metadata": {},
   "outputs": [],
   "source": [
    "TIMEOUT = 1600\n",
    "\n",
    "def collapse_statuses(driver_info):\n",
    "    driver_info_efficiency = []\n",
    "    free = 0.\n",
    "    for i, j, k in neighbors(driver_info):\n",
    "        if j[2] is None: continue\n",
    "        if j[0] == 'ontrip':\n",
    "            driver_info_efficiency.append((j[2], j[2] / (j[2] + i[2] + free)))\n",
    "        if j[0] == 'free':\n",
    "            free += j[2]\n",
    "        else:\n",
    "            if j[2] > TIMEOUT:\n",
    "                free = 0.\n",
    "    return driver_info_efficiency\n",
    "    # Here define conditions under which the \"free\" state \n",
    "    # should be attributed to the trip.\n",
    "    # ... type your code here ..."
   ]
  },
  {
   "cell_type": "code",
   "execution_count": 11,
   "metadata": {},
   "outputs": [
    {
     "name": "stdout",
     "output_type": "stream",
     "text": [
      "[(3060.0, 0.499184339314845)]\n",
      "[(3060.0, 0.499184339314845)]\n"
     ]
    }
   ],
   "source": [
    "# Check if test passes\n",
    "def test_collapse_statuses():\n",
    "    sample_driver_info = [(\"free\", datetime(2018, 4, 2, 0, 19), 2640.0), \n",
    "                          (\"busy\", datetime(2018, 4, 2, 1, 3), 1660.0),\n",
    "                          (\"free\", datetime(2018, 4, 2, 1, 30, 40), 2050.0),\n",
    "                          (\"enroute\", datetime(2018, 4, 2, 2, 4, 50), 70.0),\n",
    "                          (\"free\", datetime(2018, 4, 2, 2, 6), 500.0),\n",
    "                          (\"enroute\", datetime(2018, 4, 2, 2, 14, 20), 520.0),\n",
    "                          (\"ontrip\", datetime(2018, 4, 2, 2, 23), 3060.0),\n",
    "                          (\"free\", datetime(2018, 4, 2, 3, 14), None)\n",
    "                         ]\n",
    "    sample_driver_info_updated = [(3060.0, 3060.0 / (3060.0 + 520.0 + 500.0 + 2050.0))]\n",
    "    print(sample_driver_info_updated)\n",
    "    print(collapse_statuses(sample_driver_info))\n",
    "    assert collapse_statuses(sample_driver_info) == sample_driver_info_updated\n",
    "\n",
    "test_collapse_statuses()"
   ]
  },
  {
   "cell_type": "code",
   "execution_count": 12,
   "metadata": {},
   "outputs": [],
   "source": [
    "new_df[\"driver_info\"] = new_df.driver_info.apply(collapse_statuses)"
   ]
  },
  {
   "cell_type": "markdown",
   "metadata": {},
   "source": [
    "    5. Нарисовать и проинтерпретировать зависимость между длительностью поездки и эффективностью.\n",
    "    Подсказка: требуется сделать обратное преобразование из таблицы со строками на уровне водителя в таблицу со строками на уровне поездки."
   ]
  },
  {
   "cell_type": "code",
   "execution_count": 13,
   "metadata": {},
   "outputs": [],
   "source": [
    "trip_time, trip_efficiency = zip(*new_df['driver_info'].sum())\n",
    "trip_time = np.array(trip_time)\n",
    "trip_time_norm = trip_time / trip_time.std()\n",
    "trip_efficiency = np.array(trip_efficiency)"
   ]
  },
  {
   "cell_type": "code",
   "execution_count": 28,
   "metadata": {},
   "outputs": [
    {
     "data": {
      "text/plain": [
       "[<matplotlib.lines.Line2D at 0x26a952d52b0>]"
      ]
     },
     "execution_count": 28,
     "metadata": {},
     "output_type": "execute_result"
    },
    {
     "data": {
      "image/png": "[encoded data removed]",
      "text/plain": [
       "<Figure size 432x288 with 1 Axes>"
      ]
     },
     "metadata": {
      "needs_background": "light"
     },
     "output_type": "display_data"
    }
   ],
   "source": [
    "plt.scatter(trip_time_norm, trip_efficiency)\n",
    "poly = np.polyfit(trip_time_norm, trip_efficiency, 2)\n",
    "\n",
    "x = np.linspace(0, trip_time_norm.max(), 100)\n",
    "y = np.polyval(poly, x)\n",
    "plt.plot(x, y, c='r')"
   ]
  },
  {
   "cell_type": "code",
   "execution_count": 25,
   "metadata": {},
   "outputs": [],
   "source": [
    "eff_data = pd.DataFrame(np.concatenate((trip_time_norm.reshape(-1, 1), trip_efficiency.reshape(-1, 1)), axis=1))"
   ]
  },
  {
   "cell_type": "code",
   "execution_count": 32,
   "metadata": {},
   "outputs": [],
   "source": [
    "corr_sp = eff_data.corr('spearman').iloc[1, 0]"
   ]
  },
  {
   "cell_type": "code",
   "execution_count": 34,
   "metadata": {},
   "outputs": [
    {
     "name": "stdout",
     "output_type": "stream",
     "text": [
      "spearman correlation is 0.64\n"
     ]
    }
   ],
   "source": [
    "print('spearman correlation is {:.2f}'.format(corr_sp))"
   ]
  },
  {
   "cell_type": "code",
   "execution_count": 44,
   "metadata": {},
   "outputs": [
    {
     "name": "stdout",
     "output_type": "stream",
     "text": [
      "19.32762006010748\n",
      "p_value для нулевой гипотезы: монотонная зависимость между параметрами отсутствует равна 0.0\n"
     ]
    }
   ],
   "source": [
    "t_stat = corr_sp * np.sqrt(len(trip_efficiency) - 2) / np.sqrt(1 - corr_sp ** 2)\n",
    "print(t_stat)\n",
    "t = scipy.stats.t(len(trip_efficiency) - 2)\n",
    "p_value = 2 * (1 - t.cdf(np.abs(t_stat)))\n",
    "print('p_value для нулевой гипотезы: монотонная зависимость между параметрами отсутствует равна {}'.format(p_value))"
   ]
  },
  {
   "cell_type": "markdown",
   "metadata": {},
   "source": [
    "Эффективность поездки зависит от её продолжительности. Хорошо видно ограничение облака точек снизу. Корреляция Спирмена равна 0.64. При этом гипотезу об отсутствии связи между параметрами можно отвергунть на уровне значимости 0.05."
   ]
  },
  {
   "cell_type": "code",
   "execution_count": null,
   "metadata": {},
   "outputs": [],
   "source": []
  }
 ],
 "metadata": {
  "kernelspec": {
   "display_name": "Python 3",
   "language": "python",
   "name": "python3"
  },
  "language_info": {
   "codemirror_mode": {
    "name": "ipython",
    "version": 3
   },
   "file_extension": ".py",
   "mimetype": "text/x-python",
   "name": "python",
   "nbconvert_exporter": "python",
   "pygments_lexer": "ipython3",
   "version": "3.7.3"
  }
 },
 "nbformat": 4,
 "nbformat_minor": 4
}
